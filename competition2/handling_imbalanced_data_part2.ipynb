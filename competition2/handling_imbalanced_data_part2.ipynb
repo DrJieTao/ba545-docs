{
  "nbformat": 4,
  "nbformat_minor": 0,
  "metadata": {
    "colab": {
      "name": "handling_imbalanced_data_part2.ipynb",
      "provenance": []
    },
    "kernelspec": {
      "name": "python3",
      "display_name": "Python 3"
    }
  },
  "cells": [
    {
      "cell_type": "markdown",
      "metadata": {
        "id": "636Kuxc_ymLD",
        "colab_type": "text"
      },
      "source": [
        "# Handling Imbalanced Data with SMOTE and Near Miss Algorithm in Python\n"
      ]
    },
    {
      "cell_type": "markdown",
      "metadata": {
        "id": "eST21SLHzDm3",
        "colab_type": "text"
      },
      "source": [
        "## What is imbalanced data?\n",
        "\n",
        "- __Imbalanced Data Distribution__, generally happens when observations in _one of the class_ are much higher or lower than the other classes. \n",
        "\n",
        "- As Machine Learning algorithms tend to increase accuracy by reducing the error, they do not consider the class distribution. \n",
        "\n",
        "- This problem is prevalent in examples such as __Fraud Detection, Anomaly Detection, Facial recognition__ etc."
      ]
    },
    {
      "cell_type": "markdown",
      "metadata": {
        "id": "nqExKOdOzJPE",
        "colab_type": "text"
      },
      "source": [
        "## Why is it a problem?\n",
        "\n",
        "- Standard ML techniques, such as Decision Tree and Logistic Regression, have a bias towards the __majority class__, and they tend to ignore the minority class. \n",
        "\n",
        "  - They tend only to predict the majority class, hence, having _major misclassification_ of the minority class in comparison with the majority class. \n",
        "  \n",
        "- In more technical words, if we have imbalanced data distribution in our dataset then our model becomes more prone to the case when minority class has negligible or very __lesser__ recall.\n",
        "\n",
        "  - where you end up with models with high accuracy but biased"
      ]
    },
    {
      "cell_type": "markdown",
      "metadata": {
        "id": "DvKC2d84z0j1",
        "colab_type": "text"
      },
      "source": [
        "## How to handle imbalanced data in theory?\n",
        "\n",
        "- In general, there are two techniques: undersampling and oversampling\n",
        "  - suppose we have two classes (`0: 200, 1:1000`)\n",
        "  - Undersampling means down sample the majority class to match the minority class (e.g. random sample `200` out `1,000`)\n",
        "  - Oversampling means up sample the minority class to match the majority class (e.g. duplicate the `200` five times to match `1,000`) "
      ]
    },
    {
      "cell_type": "markdown",
      "metadata": {
        "id": "6sO2B1Qz0uYN",
        "colab_type": "text"
      },
      "source": [
        "<!--## How to handle imbalanced data in theory?-->\n",
        "\n",
        "- Undersampling and oversampling both have their pros and cons\n",
        "  - Undersampling: you lose part of your dataset, if you have a __small__ dataset, then you should not use that;\n",
        "  - Oversampling: if we do _simple_ oversampling, by duplicating the data, we introduce error in the dataset\n",
        "    - Emphasize on patterns that might not be truly important in the dataset"
      ]
    },
    {
      "cell_type": "markdown",
      "metadata": {
        "id": "vcsXGwRo1a9J",
        "colab_type": "text"
      },
      "source": [
        "## How to handle imbalanced data in practice?\n",
        "\n",
        "- Syntheic Minority Oversampling TEchnique (SMOTE)\n",
        "  - it is an oversampling technique\n",
        "  - proposed by This Nitesh Chawla, et al. in [“SMOTE: Synthetic Minority Over-sampling Technique.”](https://arxiv.org/abs/1106.1813)\n",
        "- Near Miss Algorithm\n",
        "  - it is an undersampling technique\n"
      ]
    },
    {
      "cell_type": "markdown",
      "metadata": {
        "id": "qLu491nC2hp-",
        "colab_type": "text"
      },
      "source": [
        "## How SMOTE works?\n",
        "\n",
        "- SMOTE works by selecting examples that are close in the feature space, \n",
        "  - drawing a line between the examples in the feature space and drawing a new sample at a point along that line.\n",
        "- It is recommended that \"The combination of SMOTE and under-sampling performs better than plain under-sampling.\""
      ]
    },
    {
      "cell_type": "markdown",
      "metadata": {
        "id": "lqAWVH523LP0",
        "colab_type": "text"
      },
      "source": [
        "<!--## How SMOTE works?-->\n",
        "\n",
        "- generates the synthetic training records by linear interpolation \n",
        "  - such as `s1-5` points below\n",
        "\n",
        "<img src = 'https://www.researchgate.net/profile/Christina_Bogner/publication/322701982/figure/fig1/AS:586787038715904@1516912340346/Illustration-of-SMOTE-Synthetic-points-crosses-denoted-s1-through-s5-generated-by.png' alt = 'SMOTE Illustration' width=\"300\" height=\"300\" />"
      ]
    },
    {
      "cell_type": "markdown",
      "metadata": {
        "id": "ZPUt4uLU4Mty",
        "colab_type": "text"
      },
      "source": [
        "## The SMOTE Algorithm\n",
        "\n",
        "- __Step 1__: Setting the minority class set $A$, for each $x \\in A$, the __k-nearest neighbors__ of $x$ are obtained by calculating the __Euclidean distances__ between $x$ and every other sample in set $A$.\n",
        "- __Step 2__: The __sampling rate__ $n$ is set according to the imbalanced proportion. For each $x \\in A$, $n$ examples (i.e $x_1, x_2, …, x_n$) are randomly selected from its k-nearest neighbors, and they construct a new set $A_1$ .\n",
        "- __Step 3__: For each example $x_k \\in A_1$ (k=1, 2, 3…n), the following formula is used to generate a new example:\n",
        "$$x' = x + rand(0, 1) \\times \\mid x - x_k \\mid$$\n",
        "in which $rand(0, 1)$ represents the random number between 0 and 1."
      ]
    },
    {
      "cell_type": "markdown",
      "metadata": {
        "id": "Ys8N74A55XU7",
        "colab_type": "text"
      },
      "source": [
        "## SMOTE in Action\n",
        "\n",
        "Now that we are familiar with the technique, let’s look at a worked example for an imbalanced classification problem.\n",
        "\n",
        "We will need the Imbalanced-learn (`imblearn`) Library - which is already installed for you. If you want to install that on your own, you can do that by:\n",
        "```shell\n",
        "  sudo pip install imbalanced-learn\n",
        "```"
      ]
    },
    {
      "cell_type": "code",
      "metadata": {
        "id": "-_qbmiBm6xHM",
        "colab_type": "code",
        "colab": {}
      },
      "source": [
        "import warnings\n",
        "warnings.filterwarnings(\"ignore\")"
      ],
      "execution_count": 0,
      "outputs": []
    },
    {
      "cell_type": "code",
      "metadata": {
        "id": "Qyv-7_Zv6QrH",
        "colab_type": "code",
        "outputId": "ddbcdcc3-3ed3-49dc-d7ca-d34b1ad5aa27",
        "colab": {
          "base_uri": "https://localhost:8080/",
          "height": 102
        }
      },
      "source": [
        "! pip install imbalanced-learn==0.5.0"
      ],
      "execution_count": 2,
      "outputs": [
        {
          "output_type": "stream",
          "text": [
            "Requirement already satisfied: imbalanced-learn==0.5.0 in /usr/local/lib/python3.6/dist-packages (0.5.0)\n",
            "Requirement already satisfied: numpy>=1.11 in /usr/local/lib/python3.6/dist-packages (from imbalanced-learn==0.5.0) (1.18.2)\n",
            "Requirement already satisfied: joblib>=0.11 in /usr/local/lib/python3.6/dist-packages (from imbalanced-learn==0.5.0) (0.14.1)\n",
            "Requirement already satisfied: scipy>=0.17 in /usr/local/lib/python3.6/dist-packages (from imbalanced-learn==0.5.0) (1.4.1)\n",
            "Requirement already satisfied: scikit-learn>=0.21 in /usr/local/lib/python3.6/dist-packages (from imbalanced-learn==0.5.0) (0.22.2.post1)\n"
          ],
          "name": "stdout"
        }
      ]
    },
    {
      "cell_type": "code",
      "metadata": {
        "id": "k1ARJDzn0uFa",
        "colab_type": "code",
        "outputId": "d14e099e-c515-4a4a-e889-3e5c787d2eda",
        "colab": {
          "base_uri": "https://localhost:8080/",
          "height": 97
        }
      },
      "source": [
        "# check version number\n",
        "import imblearn\n",
        "print(imblearn.__version__)"
      ],
      "execution_count": 3,
      "outputs": [
        {
          "output_type": "stream",
          "text": [
            "Using TensorFlow backend.\n"
          ],
          "name": "stderr"
        },
        {
          "output_type": "display_data",
          "data": {
            "text/html": [
              "<p style=\"color: red;\">\n",
              "The default version of TensorFlow in Colab will soon switch to TensorFlow 2.x.<br>\n",
              "We recommend you <a href=\"https://www.tensorflow.org/guide/migrate\" target=\"_blank\">upgrade</a> now \n",
              "or ensure your notebook will continue to use TensorFlow 1.x via the <code>%tensorflow_version 1.x</code> magic:\n",
              "<a href=\"https://colab.research.google.com/notebooks/tensorflow_version.ipynb\" target=\"_blank\">more info</a>.</p>\n"
            ],
            "text/plain": [
              "<IPython.core.display.HTML object>"
            ]
          },
          "metadata": {
            "tags": []
          }
        },
        {
          "output_type": "stream",
          "text": [
            "0.5.0\n"
          ],
          "name": "stdout"
        }
      ]
    },
    {
      "cell_type": "code",
      "metadata": {
        "id": "gwuAvvphz0Nw",
        "colab_type": "code",
        "colab": {}
      },
      "source": [
        "# import necessary packages  \n",
        "import pandas as pd \n",
        "import matplotlib.pyplot as plt \n",
        "import numpy as np \n",
        "from sklearn.datasets import make_classification\n",
        "from sklearn.model_selection import train_test_split\n",
        "from sklearn.linear_model import LogisticRegression \n",
        "from sklearn.preprocessing import StandardScaler \n",
        "from sklearn.metrics import confusion_matrix, classification_report \n",
        "from imblearn.over_sampling import SMOTE\n",
        "from imblearn.under_sampling import NearMiss \n",
        "\n",
        "#\n",
        "%matplotlib inline\n",
        "plt.style.use('ggplot')"
      ],
      "execution_count": 0,
      "outputs": []
    },
    {
      "cell_type": "markdown",
      "metadata": {
        "id": "2D00fw8A7KbG",
        "colab_type": "text"
      },
      "source": [
        "### Dataset Used \n",
        "\n",
        "<!--The dataset consists of transactions made by credit cards. This dataset has `492` __fraud__ transactions out of `284, 807` transactions. That makes it highly unbalanced, the positive class (frauds) account for __0.172%__ of all transactions.\n",
        "The dataset can be downloaded from [here](https://www.kaggle.com/mlg-ulb/creditcardfraud).-->\n",
        "\n",
        "In this section, we will develop an intuition for the SMOTE by applying it to an __imbalanced binary classification problem__.\n",
        "\n",
        "First, we can use the `make_classification()` function from [scikit-learn](https://scikit-learn.org/stable/modules/generated/sklearn.datasets.make_classification.html) to create a synthetic binary classification dataset with `50,000` examples and a `5:95` class distribution, with `15` features."
      ]
    },
    {
      "cell_type": "code",
      "metadata": {
        "id": "06lvCFYjySbv",
        "colab_type": "code",
        "colab": {}
      },
      "source": [
        "\n",
        "# define dataset\n",
        "X, y = make_classification(n_samples=50000, n_features=15, n_informative = 10, n_redundant=2, n_classes=2,\n",
        "\tn_clusters_per_class=1, weights=[0.95], flip_y=0.3, random_state=2019) "
      ],
      "execution_count": 0,
      "outputs": []
    },
    {
      "cell_type": "markdown",
      "metadata": {
        "id": "WjhNCGRj-w5c",
        "colab_type": "text"
      },
      "source": [
        "We can then make them into DataFrames (`feature_df` and `target_df`) to review them."
      ]
    },
    {
      "cell_type": "code",
      "metadata": {
        "id": "FNEfOjoq9ywL",
        "colab_type": "code",
        "outputId": "26065f88-adef-422d-c99f-3d23b74a0389",
        "colab": {
          "base_uri": "https://localhost:8080/",
          "height": 34
        }
      },
      "source": [
        "feature_df = pd.DataFrame(X)\n",
        "feature_df.shape"
      ],
      "execution_count": 6,
      "outputs": [
        {
          "output_type": "execute_result",
          "data": {
            "text/plain": [
              "(50000, 15)"
            ]
          },
          "metadata": {
            "tags": []
          },
          "execution_count": 6
        }
      ]
    },
    {
      "cell_type": "code",
      "metadata": {
        "id": "w90WwHc2--i3",
        "colab_type": "code",
        "outputId": "d95fda4e-42b3-4830-f527-04726c4c8a78",
        "colab": {
          "base_uri": "https://localhost:8080/",
          "height": 224
        }
      },
      "source": [
        "feature_df.head()"
      ],
      "execution_count": 7,
      "outputs": [
        {
          "output_type": "execute_result",
          "data": {
            "text/html": [
              "<div>\n",
              "<style scoped>\n",
              "    .dataframe tbody tr th:only-of-type {\n",
              "        vertical-align: middle;\n",
              "    }\n",
              "\n",
              "    .dataframe tbody tr th {\n",
              "        vertical-align: top;\n",
              "    }\n",
              "\n",
              "    .dataframe thead th {\n",
              "        text-align: right;\n",
              "    }\n",
              "</style>\n",
              "<table border=\"1\" class=\"dataframe\">\n",
              "  <thead>\n",
              "    <tr style=\"text-align: right;\">\n",
              "      <th></th>\n",
              "      <th>0</th>\n",
              "      <th>1</th>\n",
              "      <th>2</th>\n",
              "      <th>3</th>\n",
              "      <th>4</th>\n",
              "      <th>5</th>\n",
              "      <th>6</th>\n",
              "      <th>7</th>\n",
              "      <th>8</th>\n",
              "      <th>9</th>\n",
              "      <th>10</th>\n",
              "      <th>11</th>\n",
              "      <th>12</th>\n",
              "      <th>13</th>\n",
              "      <th>14</th>\n",
              "    </tr>\n",
              "  </thead>\n",
              "  <tbody>\n",
              "    <tr>\n",
              "      <th>0</th>\n",
              "      <td>2.203232</td>\n",
              "      <td>-0.338470</td>\n",
              "      <td>-1.942360</td>\n",
              "      <td>1.094863</td>\n",
              "      <td>0.702001</td>\n",
              "      <td>2.704392</td>\n",
              "      <td>-1.693710</td>\n",
              "      <td>-0.935677</td>\n",
              "      <td>-1.992745</td>\n",
              "      <td>-0.530799</td>\n",
              "      <td>-0.687534</td>\n",
              "      <td>-1.088979</td>\n",
              "      <td>-1.057839</td>\n",
              "      <td>-0.336629</td>\n",
              "      <td>0.661311</td>\n",
              "    </tr>\n",
              "    <tr>\n",
              "      <th>1</th>\n",
              "      <td>-8.515620</td>\n",
              "      <td>1.656997</td>\n",
              "      <td>-3.060870</td>\n",
              "      <td>0.475583</td>\n",
              "      <td>-0.261400</td>\n",
              "      <td>-4.327472</td>\n",
              "      <td>5.997952</td>\n",
              "      <td>-1.681292</td>\n",
              "      <td>2.224752</td>\n",
              "      <td>-1.416957</td>\n",
              "      <td>-0.138239</td>\n",
              "      <td>-0.611985</td>\n",
              "      <td>-1.068869</td>\n",
              "      <td>-0.575796</td>\n",
              "      <td>-4.186383</td>\n",
              "    </tr>\n",
              "    <tr>\n",
              "      <th>2</th>\n",
              "      <td>0.012205</td>\n",
              "      <td>-2.522472</td>\n",
              "      <td>1.237701</td>\n",
              "      <td>0.840568</td>\n",
              "      <td>-0.448538</td>\n",
              "      <td>0.968444</td>\n",
              "      <td>-1.525985</td>\n",
              "      <td>-2.860762</td>\n",
              "      <td>-1.597672</td>\n",
              "      <td>0.197300</td>\n",
              "      <td>-0.710927</td>\n",
              "      <td>-2.107175</td>\n",
              "      <td>0.272293</td>\n",
              "      <td>-1.423747</td>\n",
              "      <td>0.863387</td>\n",
              "    </tr>\n",
              "    <tr>\n",
              "      <th>3</th>\n",
              "      <td>4.329968</td>\n",
              "      <td>1.092611</td>\n",
              "      <td>-0.814243</td>\n",
              "      <td>-1.946804</td>\n",
              "      <td>-2.625136</td>\n",
              "      <td>1.245421</td>\n",
              "      <td>-3.260440</td>\n",
              "      <td>-0.412368</td>\n",
              "      <td>-1.057903</td>\n",
              "      <td>-1.162730</td>\n",
              "      <td>-0.819842</td>\n",
              "      <td>1.237197</td>\n",
              "      <td>0.226003</td>\n",
              "      <td>1.801557</td>\n",
              "      <td>1.026415</td>\n",
              "    </tr>\n",
              "    <tr>\n",
              "      <th>4</th>\n",
              "      <td>3.060353</td>\n",
              "      <td>1.402605</td>\n",
              "      <td>-2.949017</td>\n",
              "      <td>-0.337781</td>\n",
              "      <td>-0.198406</td>\n",
              "      <td>1.792650</td>\n",
              "      <td>0.894275</td>\n",
              "      <td>0.077573</td>\n",
              "      <td>-2.917262</td>\n",
              "      <td>-2.961037</td>\n",
              "      <td>0.453568</td>\n",
              "      <td>2.378817</td>\n",
              "      <td>-1.214751</td>\n",
              "      <td>1.896571</td>\n",
              "      <td>-0.876971</td>\n",
              "    </tr>\n",
              "  </tbody>\n",
              "</table>\n",
              "</div>"
            ],
            "text/plain": [
              "         0         1         2   ...        12        13        14\n",
              "0  2.203232 -0.338470 -1.942360  ... -1.057839 -0.336629  0.661311\n",
              "1 -8.515620  1.656997 -3.060870  ... -1.068869 -0.575796 -4.186383\n",
              "2  0.012205 -2.522472  1.237701  ...  0.272293 -1.423747  0.863387\n",
              "3  4.329968  1.092611 -0.814243  ...  0.226003  1.801557  1.026415\n",
              "4  3.060353  1.402605 -2.949017  ... -1.214751  1.896571 -0.876971\n",
              "\n",
              "[5 rows x 15 columns]"
            ]
          },
          "metadata": {
            "tags": []
          },
          "execution_count": 7
        }
      ]
    },
    {
      "cell_type": "code",
      "metadata": {
        "id": "2YecOhJN_I7o",
        "colab_type": "code",
        "outputId": "2d1f27da-8bbe-4020-de31-5ee7331774e3",
        "colab": {
          "base_uri": "https://localhost:8080/",
          "height": 34
        }
      },
      "source": [
        "target_df = pd.Series(y)\n",
        "target_df.shape"
      ],
      "execution_count": 8,
      "outputs": [
        {
          "output_type": "execute_result",
          "data": {
            "text/plain": [
              "(50000,)"
            ]
          },
          "metadata": {
            "tags": []
          },
          "execution_count": 8
        }
      ]
    },
    {
      "cell_type": "code",
      "metadata": {
        "id": "bf0BTOF1_Qxp",
        "colab_type": "code",
        "outputId": "51da9b00-aef3-4102-e25d-2c0af6daa558",
        "colab": {
          "base_uri": "https://localhost:8080/",
          "height": 68
        }
      },
      "source": [
        "target_df.value_counts()"
      ],
      "execution_count": 9,
      "outputs": [
        {
          "output_type": "execute_result",
          "data": {
            "text/plain": [
              "0    40730\n",
              "1     9270\n",
              "dtype: int64"
            ]
          },
          "metadata": {
            "tags": []
          },
          "execution_count": 9
        }
      ]
    },
    {
      "cell_type": "markdown",
      "metadata": {
        "id": "FvQl-2Tg_ifw",
        "colab_type": "text"
      },
      "source": [
        "We can plot it in a bar chart to see how much the data is imbalanced."
      ]
    },
    {
      "cell_type": "code",
      "metadata": {
        "id": "aP7LLtRj_Ush",
        "colab_type": "code",
        "outputId": "e7d159c7-6a91-4eb8-8af6-28eac7c5de99",
        "colab": {
          "base_uri": "https://localhost:8080/",
          "height": 262
        }
      },
      "source": [
        "target_df.value_counts().plot(kind='bar');"
      ],
      "execution_count": 10,
      "outputs": [
        {
          "output_type": "display_data",
          "data": {
            "image/png": "[encoded data removed]",
            "text/plain": [
              "<Figure size 432x288 with 1 Axes>"
            ]
          },
          "metadata": {
            "tags": []
          }
        }
      ]
    },
    {
      "cell_type": "markdown",
      "metadata": {
        "id": "ul6AZLdIAkLc",
        "colab_type": "text"
      },
      "source": [
        "We can also look at the `info` of the data"
      ]
    },
    {
      "cell_type": "code",
      "metadata": {
        "id": "LGImeTGK_-hX",
        "colab_type": "code",
        "outputId": "13dd1fb3-dd31-4fd7-d187-f57a7fc442f3",
        "colab": {
          "base_uri": "https://localhost:8080/",
          "height": 357
        }
      },
      "source": [
        "feature_df.info()"
      ],
      "execution_count": 11,
      "outputs": [
        {
          "output_type": "stream",
          "text": [
            "<class 'pandas.core.frame.DataFrame'>\n",
            "RangeIndex: 50000 entries, 0 to 49999\n",
            "Data columns (total 15 columns):\n",
            "0     50000 non-null float64\n",
            "1     50000 non-null float64\n",
            "2     50000 non-null float64\n",
            "3     50000 non-null float64\n",
            "4     50000 non-null float64\n",
            "5     50000 non-null float64\n",
            "6     50000 non-null float64\n",
            "7     50000 non-null float64\n",
            "8     50000 non-null float64\n",
            "9     50000 non-null float64\n",
            "10    50000 non-null float64\n",
            "11    50000 non-null float64\n",
            "12    50000 non-null float64\n",
            "13    50000 non-null float64\n",
            "14    50000 non-null float64\n",
            "dtypes: float64(15)\n",
            "memory usage: 5.7 MB\n"
          ],
          "name": "stdout"
        }
      ]
    },
    {
      "cell_type": "markdown",
      "metadata": {
        "id": "KX2Zoa24CTw-",
        "colab_type": "text"
      },
      "source": [
        "Let's look at the descriptive statistics of the data."
      ]
    },
    {
      "cell_type": "code",
      "metadata": {
        "id": "MXc50ByfCcz0",
        "colab_type": "code",
        "outputId": "c1b68264-4b03-4445-9dff-60d4583c46f3",
        "colab": {
          "base_uri": "https://localhost:8080/",
          "height": 317
        }
      },
      "source": [
        "feature_df.describe()"
      ],
      "execution_count": 12,
      "outputs": [
        {
          "output_type": "execute_result",
          "data": {
            "text/html": [
              "<div>\n",
              "<style scoped>\n",
              "    .dataframe tbody tr th:only-of-type {\n",
              "        vertical-align: middle;\n",
              "    }\n",
              "\n",
              "    .dataframe tbody tr th {\n",
              "        vertical-align: top;\n",
              "    }\n",
              "\n",
              "    .dataframe thead th {\n",
              "        text-align: right;\n",
              "    }\n",
              "</style>\n",
              "<table border=\"1\" class=\"dataframe\">\n",
              "  <thead>\n",
              "    <tr style=\"text-align: right;\">\n",
              "      <th></th>\n",
              "      <th>0</th>\n",
              "      <th>1</th>\n",
              "      <th>2</th>\n",
              "      <th>3</th>\n",
              "      <th>4</th>\n",
              "      <th>5</th>\n",
              "      <th>6</th>\n",
              "      <th>7</th>\n",
              "      <th>8</th>\n",
              "      <th>9</th>\n",
              "      <th>10</th>\n",
              "      <th>11</th>\n",
              "      <th>12</th>\n",
              "      <th>13</th>\n",
              "      <th>14</th>\n",
              "    </tr>\n",
              "  </thead>\n",
              "  <tbody>\n",
              "    <tr>\n",
              "      <th>count</th>\n",
              "      <td>50000.000000</td>\n",
              "      <td>50000.000000</td>\n",
              "      <td>50000.000000</td>\n",
              "      <td>50000.000000</td>\n",
              "      <td>50000.000000</td>\n",
              "      <td>50000.000000</td>\n",
              "      <td>50000.000000</td>\n",
              "      <td>50000.000000</td>\n",
              "      <td>50000.000000</td>\n",
              "      <td>50000.000000</td>\n",
              "      <td>50000.000000</td>\n",
              "      <td>50000.000000</td>\n",
              "      <td>50000.000000</td>\n",
              "      <td>50000.000000</td>\n",
              "      <td>50000.000000</td>\n",
              "    </tr>\n",
              "    <tr>\n",
              "      <th>mean</th>\n",
              "      <td>2.840012</td>\n",
              "      <td>0.004052</td>\n",
              "      <td>-1.007150</td>\n",
              "      <td>-1.005375</td>\n",
              "      <td>-0.003444</td>\n",
              "      <td>0.998727</td>\n",
              "      <td>-0.894842</td>\n",
              "      <td>-0.900989</td>\n",
              "      <td>-0.992759</td>\n",
              "      <td>-0.901772</td>\n",
              "      <td>-0.998364</td>\n",
              "      <td>0.760222</td>\n",
              "      <td>0.001682</td>\n",
              "      <td>0.900422</td>\n",
              "      <td>-0.909906</td>\n",
              "    </tr>\n",
              "    <tr>\n",
              "      <th>std</th>\n",
              "      <td>4.263484</td>\n",
              "      <td>0.999375</td>\n",
              "      <td>1.894039</td>\n",
              "      <td>2.063853</td>\n",
              "      <td>0.991212</td>\n",
              "      <td>1.725686</td>\n",
              "      <td>2.094143</td>\n",
              "      <td>1.365904</td>\n",
              "      <td>2.005733</td>\n",
              "      <td>2.141612</td>\n",
              "      <td>1.194688</td>\n",
              "      <td>2.513160</td>\n",
              "      <td>0.997924</td>\n",
              "      <td>1.786721</td>\n",
              "      <td>1.995354</td>\n",
              "    </tr>\n",
              "    <tr>\n",
              "      <th>min</th>\n",
              "      <td>-14.145078</td>\n",
              "      <td>-4.796405</td>\n",
              "      <td>-9.310272</td>\n",
              "      <td>-9.342071</td>\n",
              "      <td>-4.177785</td>\n",
              "      <td>-8.772394</td>\n",
              "      <td>-10.802910</td>\n",
              "      <td>-7.245892</td>\n",
              "      <td>-9.447663</td>\n",
              "      <td>-12.392482</td>\n",
              "      <td>-8.517993</td>\n",
              "      <td>-9.348258</td>\n",
              "      <td>-4.639400</td>\n",
              "      <td>-7.236252</td>\n",
              "      <td>-9.056560</td>\n",
              "    </tr>\n",
              "    <tr>\n",
              "      <th>25%</th>\n",
              "      <td>-0.029978</td>\n",
              "      <td>-0.662435</td>\n",
              "      <td>-2.283985</td>\n",
              "      <td>-2.398035</td>\n",
              "      <td>-0.678120</td>\n",
              "      <td>-0.162358</td>\n",
              "      <td>-2.318001</td>\n",
              "      <td>-1.809992</td>\n",
              "      <td>-2.339742</td>\n",
              "      <td>-2.361374</td>\n",
              "      <td>-1.774497</td>\n",
              "      <td>-0.893343</td>\n",
              "      <td>-0.670262</td>\n",
              "      <td>-0.291466</td>\n",
              "      <td>-2.261922</td>\n",
              "    </tr>\n",
              "    <tr>\n",
              "      <th>50%</th>\n",
              "      <td>2.837641</td>\n",
              "      <td>0.004677</td>\n",
              "      <td>-1.006449</td>\n",
              "      <td>-0.997374</td>\n",
              "      <td>-0.001286</td>\n",
              "      <td>0.993003</td>\n",
              "      <td>-0.893993</td>\n",
              "      <td>-0.955396</td>\n",
              "      <td>-0.990523</td>\n",
              "      <td>-0.915373</td>\n",
              "      <td>-1.000502</td>\n",
              "      <td>0.673951</td>\n",
              "      <td>0.002155</td>\n",
              "      <td>0.925708</td>\n",
              "      <td>-0.919781</td>\n",
              "    </tr>\n",
              "    <tr>\n",
              "      <th>75%</th>\n",
              "      <td>5.717328</td>\n",
              "      <td>0.674665</td>\n",
              "      <td>0.270924</td>\n",
              "      <td>0.384540</td>\n",
              "      <td>0.657904</td>\n",
              "      <td>2.150226</td>\n",
              "      <td>0.520066</td>\n",
              "      <td>-0.081549</td>\n",
              "      <td>0.357839</td>\n",
              "      <td>0.542259</td>\n",
              "      <td>-0.224397</td>\n",
              "      <td>2.303599</td>\n",
              "      <td>0.676869</td>\n",
              "      <td>2.116431</td>\n",
              "      <td>0.414218</td>\n",
              "    </tr>\n",
              "    <tr>\n",
              "      <th>max</th>\n",
              "      <td>20.675725</td>\n",
              "      <td>4.181346</td>\n",
              "      <td>6.529603</td>\n",
              "      <td>7.784864</td>\n",
              "      <td>4.245817</td>\n",
              "      <td>8.536446</td>\n",
              "      <td>8.634736</td>\n",
              "      <td>7.672094</td>\n",
              "      <td>7.178808</td>\n",
              "      <td>7.795812</td>\n",
              "      <td>5.918730</td>\n",
              "      <td>17.996332</td>\n",
              "      <td>4.206088</td>\n",
              "      <td>8.764451</td>\n",
              "      <td>7.238012</td>\n",
              "    </tr>\n",
              "  </tbody>\n",
              "</table>\n",
              "</div>"
            ],
            "text/plain": [
              "                 0             1   ...            13            14\n",
              "count  50000.000000  50000.000000  ...  50000.000000  50000.000000\n",
              "mean       2.840012      0.004052  ...      0.900422     -0.909906\n",
              "std        4.263484      0.999375  ...      1.786721      1.995354\n",
              "min      -14.145078     -4.796405  ...     -7.236252     -9.056560\n",
              "25%       -0.029978     -0.662435  ...     -0.291466     -2.261922\n",
              "50%        2.837641      0.004677  ...      0.925708     -0.919781\n",
              "75%        5.717328      0.674665  ...      2.116431      0.414218\n",
              "max       20.675725      4.181346  ...      8.764451      7.238012\n",
              "\n",
              "[8 rows x 15 columns]"
            ]
          },
          "metadata": {
            "tags": []
          },
          "execution_count": 12
        }
      ]
    },
    {
      "cell_type": "markdown",
      "metadata": {
        "id": "eWwh9IO3Cpea",
        "colab_type": "text"
      },
      "source": [
        "Let's scale te data so that all the features are in the same range."
      ]
    },
    {
      "cell_type": "code",
      "metadata": {
        "id": "W4KexaW8ArHU",
        "colab_type": "code",
        "outputId": "86a7f10e-8300-4c15-9033-b747ccde66e4",
        "colab": {
          "base_uri": "https://localhost:8080/",
          "height": 317
        }
      },
      "source": [
        "scaled_df = pd.DataFrame(StandardScaler().fit_transform(feature_df))\n",
        "scaled_df.describe()"
      ],
      "execution_count": 13,
      "outputs": [
        {
          "output_type": "execute_result",
          "data": {
            "text/html": [
              "<div>\n",
              "<style scoped>\n",
              "    .dataframe tbody tr th:only-of-type {\n",
              "        vertical-align: middle;\n",
              "    }\n",
              "\n",
              "    .dataframe tbody tr th {\n",
              "        vertical-align: top;\n",
              "    }\n",
              "\n",
              "    .dataframe thead th {\n",
              "        text-align: right;\n",
              "    }\n",
              "</style>\n",
              "<table border=\"1\" class=\"dataframe\">\n",
              "  <thead>\n",
              "    <tr style=\"text-align: right;\">\n",
              "      <th></th>\n",
              "      <th>0</th>\n",
              "      <th>1</th>\n",
              "      <th>2</th>\n",
              "      <th>3</th>\n",
              "      <th>4</th>\n",
              "      <th>5</th>\n",
              "      <th>6</th>\n",
              "      <th>7</th>\n",
              "      <th>8</th>\n",
              "      <th>9</th>\n",
              "      <th>10</th>\n",
              "      <th>11</th>\n",
              "      <th>12</th>\n",
              "      <th>13</th>\n",
              "      <th>14</th>\n",
              "    </tr>\n",
              "  </thead>\n",
              "  <tbody>\n",
              "    <tr>\n",
              "      <th>count</th>\n",
              "      <td>5.000000e+04</td>\n",
              "      <td>5.000000e+04</td>\n",
              "      <td>5.000000e+04</td>\n",
              "      <td>5.000000e+04</td>\n",
              "      <td>5.000000e+04</td>\n",
              "      <td>5.000000e+04</td>\n",
              "      <td>5.000000e+04</td>\n",
              "      <td>5.000000e+04</td>\n",
              "      <td>5.000000e+04</td>\n",
              "      <td>5.000000e+04</td>\n",
              "      <td>5.000000e+04</td>\n",
              "      <td>5.000000e+04</td>\n",
              "      <td>5.000000e+04</td>\n",
              "      <td>5.000000e+04</td>\n",
              "      <td>5.000000e+04</td>\n",
              "    </tr>\n",
              "    <tr>\n",
              "      <th>mean</th>\n",
              "      <td>-2.668632e-15</td>\n",
              "      <td>5.104500e-17</td>\n",
              "      <td>2.859133e-15</td>\n",
              "      <td>-2.752196e-15</td>\n",
              "      <td>-2.053024e-17</td>\n",
              "      <td>-7.334533e-16</td>\n",
              "      <td>7.215184e-16</td>\n",
              "      <td>7.120262e-15</td>\n",
              "      <td>-2.585159e-15</td>\n",
              "      <td>1.429845e-16</td>\n",
              "      <td>-1.482254e-15</td>\n",
              "      <td>1.115871e-15</td>\n",
              "      <td>1.263656e-17</td>\n",
              "      <td>-4.226192e-16</td>\n",
              "      <td>-7.130263e-15</td>\n",
              "    </tr>\n",
              "    <tr>\n",
              "      <th>std</th>\n",
              "      <td>1.000010e+00</td>\n",
              "      <td>1.000010e+00</td>\n",
              "      <td>1.000010e+00</td>\n",
              "      <td>1.000010e+00</td>\n",
              "      <td>1.000010e+00</td>\n",
              "      <td>1.000010e+00</td>\n",
              "      <td>1.000010e+00</td>\n",
              "      <td>1.000010e+00</td>\n",
              "      <td>1.000010e+00</td>\n",
              "      <td>1.000010e+00</td>\n",
              "      <td>1.000010e+00</td>\n",
              "      <td>1.000010e+00</td>\n",
              "      <td>1.000010e+00</td>\n",
              "      <td>1.000010e+00</td>\n",
              "      <td>1.000010e+00</td>\n",
              "    </tr>\n",
              "    <tr>\n",
              "      <th>min</th>\n",
              "      <td>-3.983892e+00</td>\n",
              "      <td>-4.803505e+00</td>\n",
              "      <td>-4.383861e+00</td>\n",
              "      <td>-4.039425e+00</td>\n",
              "      <td>-4.211395e+00</td>\n",
              "      <td>-5.662223e+00</td>\n",
              "      <td>-4.731370e+00</td>\n",
              "      <td>-4.645252e+00</td>\n",
              "      <td>-4.215411e+00</td>\n",
              "      <td>-5.365502e+00</td>\n",
              "      <td>-6.294284e+00</td>\n",
              "      <td>-4.022259e+00</td>\n",
              "      <td>-4.650786e+00</td>\n",
              "      <td>-4.554015e+00</td>\n",
              "      <td>-4.082852e+00</td>\n",
              "    </tr>\n",
              "    <tr>\n",
              "      <th>25%</th>\n",
              "      <td>-6.731628e-01</td>\n",
              "      <td>-6.669110e-01</td>\n",
              "      <td>-6.741398e-01</td>\n",
              "      <td>-6.747933e-01</td>\n",
              "      <td>-6.806646e-01</td>\n",
              "      <td>-6.728320e-01</td>\n",
              "      <td>-6.795966e-01</td>\n",
              "      <td>-6.655023e-01</td>\n",
              "      <td>-6.715730e-01</td>\n",
              "      <td>-6.815504e-01</td>\n",
              "      <td>-6.496603e-01</td>\n",
              "      <td>-6.579693e-01</td>\n",
              "      <td>-6.733488e-01</td>\n",
              "      <td>-6.670880e-01</td>\n",
              "      <td>-6.775885e-01</td>\n",
              "    </tr>\n",
              "    <tr>\n",
              "      <th>50%</th>\n",
              "      <td>-5.560891e-04</td>\n",
              "      <td>6.245611e-04</td>\n",
              "      <td>3.698440e-04</td>\n",
              "      <td>3.876942e-03</td>\n",
              "      <td>2.177223e-03</td>\n",
              "      <td>-3.317204e-03</td>\n",
              "      <td>4.055422e-04</td>\n",
              "      <td>-3.983282e-02</td>\n",
              "      <td>1.115045e-03</td>\n",
              "      <td>-6.350909e-03</td>\n",
              "      <td>-1.789851e-03</td>\n",
              "      <td>-3.432807e-02</td>\n",
              "      <td>4.735407e-04</td>\n",
              "      <td>1.415230e-02</td>\n",
              "      <td>-4.949101e-03</td>\n",
              "    </tr>\n",
              "    <tr>\n",
              "      <th>75%</th>\n",
              "      <td>6.748811e-01</td>\n",
              "      <td>6.710380e-01</td>\n",
              "      <td>6.747944e-01</td>\n",
              "      <td>6.734630e-01</td>\n",
              "      <td>6.672187e-01</td>\n",
              "      <td>6.672769e-01</td>\n",
              "      <td>6.756567e-01</td>\n",
              "      <td>5.999307e-01</td>\n",
              "      <td>6.733758e-01</td>\n",
              "      <td>6.742793e-01</td>\n",
              "      <td>6.478463e-01</td>\n",
              "      <td>6.141240e-01</td>\n",
              "      <td>6.765988e-01</td>\n",
              "      <td>6.805882e-01</td>\n",
              "      <td>6.636105e-01</td>\n",
              "    </tr>\n",
              "    <tr>\n",
              "      <th>max</th>\n",
              "      <td>4.183408e+00</td>\n",
              "      <td>4.179946e+00</td>\n",
              "      <td>3.979235e+00</td>\n",
              "      <td>4.259182e+00</td>\n",
              "      <td>4.286980e+00</td>\n",
              "      <td>4.367998e+00</td>\n",
              "      <td>4.550630e+00</td>\n",
              "      <td>6.276554e+00</td>\n",
              "      <td>4.074146e+00</td>\n",
              "      <td>4.061272e+00</td>\n",
              "      <td>5.789933e+00</td>\n",
              "      <td>6.858409e+00</td>\n",
              "      <td>4.213197e+00</td>\n",
              "      <td>4.401419e+00</td>\n",
              "      <td>4.083486e+00</td>\n",
              "    </tr>\n",
              "  </tbody>\n",
              "</table>\n",
              "</div>"
            ],
            "text/plain": [
              "                 0             1   ...            13            14\n",
              "count  5.000000e+04  5.000000e+04  ...  5.000000e+04  5.000000e+04\n",
              "mean  -2.668632e-15  5.104500e-17  ... -4.226192e-16 -7.130263e-15\n",
              "std    1.000010e+00  1.000010e+00  ...  1.000010e+00  1.000010e+00\n",
              "min   -3.983892e+00 -4.803505e+00  ... -4.554015e+00 -4.082852e+00\n",
              "25%   -6.731628e-01 -6.669110e-01  ... -6.670880e-01 -6.775885e-01\n",
              "50%   -5.560891e-04  6.245611e-04  ...  1.415230e-02 -4.949101e-03\n",
              "75%    6.748811e-01  6.710380e-01  ...  6.805882e-01  6.636105e-01\n",
              "max    4.183408e+00  4.179946e+00  ...  4.401419e+00  4.083486e+00\n",
              "\n",
              "[8 rows x 15 columns]"
            ]
          },
          "metadata": {
            "tags": []
          },
          "execution_count": 13
        }
      ]
    },
    {
      "cell_type": "markdown",
      "metadata": {
        "id": "6OKdd5bNC8SC",
        "colab_type": "text"
      },
      "source": [
        "Now to split the data into training and testing."
      ]
    },
    {
      "cell_type": "code",
      "metadata": {
        "id": "KbrilX-zCG-o",
        "colab_type": "code",
        "outputId": "2cb8658d-14e0-4198-fdab-16213f64a3a7",
        "colab": {
          "base_uri": "https://localhost:8080/",
          "height": 85
        }
      },
      "source": [
        "# split into 80:20 ration \n",
        "X_train, X_test, y_train, y_test = train_test_split(scaled_df.values, target_df.values, test_size = 0.2, random_state = 2019) \n",
        "  \n",
        "# describes info about train and test set \n",
        "print(\"Number transactions X_train dataset: \", X_train.shape) \n",
        "print(\"Number transactions y_train dataset: \", y_train.shape) \n",
        "print(\"Number transactions X_test dataset: \", X_test.shape) \n",
        "print(\"Number transactions y_test dataset: \", y_test.shape) "
      ],
      "execution_count": 14,
      "outputs": [
        {
          "output_type": "stream",
          "text": [
            "Number transactions X_train dataset:  (40000, 15)\n",
            "Number transactions y_train dataset:  (40000,)\n",
            "Number transactions X_test dataset:  (10000, 15)\n",
            "Number transactions y_test dataset:  (10000,)\n"
          ],
          "name": "stdout"
        }
      ]
    },
    {
      "cell_type": "markdown",
      "metadata": {
        "id": "-OlNdp1fDVBi",
        "colab_type": "text"
      },
      "source": [
        "Now train the model without handling the imbalanced class distribution."
      ]
    },
    {
      "cell_type": "code",
      "metadata": {
        "id": "YGRbZa6tDL8O",
        "colab_type": "code",
        "outputId": "28edc396-5286-4997-c476-0fcc44547534",
        "colab": {
          "base_uri": "https://localhost:8080/",
          "height": 170
        }
      },
      "source": [
        "# logistic regression object \n",
        "lr = LogisticRegression(max_iter=1000) \n",
        "  \n",
        "# train the model on train set \n",
        "lr.fit(X_train, y_train.ravel()) \n",
        "  \n",
        "predictions = lr.predict(X_test) \n",
        "  \n",
        "# print classification report \n",
        "print(classification_report(y_test, predictions)) \n"
      ],
      "execution_count": 15,
      "outputs": [
        {
          "output_type": "stream",
          "text": [
            "              precision    recall  f1-score   support\n",
            "\n",
            "           0       0.84      0.99      0.91      8149\n",
            "           1       0.83      0.17      0.28      1851\n",
            "\n",
            "    accuracy                           0.84     10000\n",
            "   macro avg       0.84      0.58      0.59     10000\n",
            "weighted avg       0.84      0.84      0.79     10000\n",
            "\n"
          ],
          "name": "stdout"
        }
      ]
    },
    {
      "cell_type": "markdown",
      "metadata": {
        "id": "Z5LBrBG3DlTB",
        "colab_type": "text"
      },
      "source": [
        "The accuracy comes out to be `84%` but did you notice something strange?\n",
        "\n",
        "The _recall_ of the minority class (`1`) in very low. It proves that the model is more biased towards majority class (`0`). So, it proves that this is not the best model.\n",
        "\n",
        "Now, we will apply the SMOTE techniques and see the changes in the model performance.\n",
        "\n",
        "__NOTE__: we only performs SMOTE, or any other balancing technique, on the __training__ dataset. You should __never__ touch the test data.\n",
        "\n",
        "First, let's look at the original distribution again.\n"
      ]
    },
    {
      "cell_type": "code",
      "metadata": {
        "id": "oahJ-eEXDanX",
        "colab_type": "code",
        "outputId": "52abb42a-879d-4142-f386-dde0fe890e62",
        "colab": {
          "base_uri": "https://localhost:8080/",
          "height": 68
        }
      },
      "source": [
        "print(\"Before OverSampling, counts of label '1': {}\".format(sum(y_train == 1))) \n",
        "print(\"Before OverSampling, counts of label '0': {} \\n\".format(sum(y_train == 0))) "
      ],
      "execution_count": 16,
      "outputs": [
        {
          "output_type": "stream",
          "text": [
            "Before OverSampling, counts of label '1': 7419\n",
            "Before OverSampling, counts of label '0': 32581 \n",
            "\n"
          ],
          "name": "stdout"
        }
      ]
    },
    {
      "cell_type": "code",
      "metadata": {
        "id": "WXdhNpE2E7U0",
        "colab_type": "code",
        "outputId": "8e097a1e-8719-4e13-ba5f-65724f3defe3",
        "colab": {
          "base_uri": "https://localhost:8080/",
          "height": 102
        }
      },
      "source": [
        "sm = SMOTE(random_state = 123) \n",
        "X_train_res, y_train_res = sm.fit_sample(X_train, y_train) \n",
        "  \n",
        "print('After OverSampling, the shape of train_X: {}'.format(X_train_res.shape)) \n",
        "print('After OverSampling, the shape of train_y: {} \\n'.format(y_train_res.shape)) \n",
        "  \n",
        "print(\"After OverSampling, counts of label '1': {}\".format(sum(y_train_res == 1))) \n",
        "print(\"After OverSampling, counts of label '0': {}\".format(sum(y_train_res == 0))) \n"
      ],
      "execution_count": 17,
      "outputs": [
        {
          "output_type": "stream",
          "text": [
            "After OverSampling, the shape of train_X: (65162, 15)\n",
            "After OverSampling, the shape of train_y: (65162,) \n",
            "\n",
            "After OverSampling, counts of label '1': 32581\n",
            "After OverSampling, counts of label '0': 32581\n"
          ],
          "name": "stdout"
        }
      ]
    },
    {
      "cell_type": "markdown",
      "metadata": {
        "id": "0nFWldl-FP-T",
        "colab_type": "text"
      },
      "source": [
        "Look that SMOTE Algorithm has oversampled the instances in the minority and made it equal to majority class (`32,581`). Both categories have equal amount of records. Accordingly, we see the overall size the training set increased from `32,581` to `65,162`. _Note_ that the additional `32,581` instances are synthesized and they are not in the actual data - hence, we introduce error in the dataset and then in our model.\n",
        "\n",
        "Now see the accuracy and recall results after applying SMOTE algorithm (Oversampling)."
      ]
    },
    {
      "cell_type": "code",
      "metadata": {
        "id": "C38yvAQuFKit",
        "colab_type": "code",
        "outputId": "d974b85b-5886-4031-a8ff-80a23343279b",
        "colab": {
          "base_uri": "https://localhost:8080/",
          "height": 170
        }
      },
      "source": [
        "lr1 = LogisticRegression(max_iter=1000) \n",
        "lr1.fit(X_train_res, y_train_res) \n",
        "y_pred = lr1.predict(X_test) \n",
        "  \n",
        "# print classification report \n",
        "print(classification_report(y_test, y_pred)) \n"
      ],
      "execution_count": 18,
      "outputs": [
        {
          "output_type": "stream",
          "text": [
            "              precision    recall  f1-score   support\n",
            "\n",
            "           0       0.85      0.71      0.77      8149\n",
            "           1       0.25      0.43      0.32      1851\n",
            "\n",
            "    accuracy                           0.66     10000\n",
            "   macro avg       0.55      0.57      0.54     10000\n",
            "weighted avg       0.74      0.66      0.69     10000\n",
            "\n"
          ],
          "name": "stdout"
        }
      ]
    },
    {
      "cell_type": "markdown",
      "metadata": {
        "id": "IPQyizHBGrVX",
        "colab_type": "text"
      },
      "source": [
        "Wait, what? We see a huge descrease in model accuracy from `84%` to `66%`. Nobody likes that kind of drop, correct?\n",
        "\n",
        "That is simply not true. When we had `84%` as the accuracy of the initial model, we are comparing against a threshold of `95%`. Why? \n",
        "\n",
        "Since if we assign all the instances in the testing set to the majority class (`0`), or simply by __random guessing__, we get an accuracy of `95%`. In that sense, our model is <span style=\"color:red\"> __11% worse__ </span> than random guessing. Clearly that is not a good model.\n",
        "\n",
        "Now let's look at the modeling results after resampling. We are comparing against the threshold of `50%` (random guessing, since we have equal amounts of instances in the two classes). Thus, we result in a <span style=\"color:blue\"> __16% increase__ </span> by applying SMOTE. Also, we notice that the recall in the minority class increased by `0.26`, which means our new model is more capable of capturing the pattern(s) in the minority class.\n",
        "\n",
        "SMOTE clearly works in our favor. But still, we introduced error in our dataset, you can observe that in the declined performance in the results toward the majority class.\n",
        "\n",
        "That is why we need to try the NearMiss (undersampling) method."
      ]
    },
    {
      "cell_type": "markdown",
      "metadata": {
        "id": "YnJy68yQJOI9",
        "colab_type": "text"
      },
      "source": [
        "## How NearMiss works?\n",
        "\n",
        "- NearMiss is an under-sampling technique. It aims to balance class distribution by __randomly eliminating__ majority class examples. \n",
        "\n",
        "- To prevent problem of information loss in most under-sampling techniques, __near-neighbor__ methods are widely used.\n",
        "\n",
        "- The basic intuition about the working of near-neighbor methods is as follows:\n",
        "\n",
        "  - __Step 1__: The method first finds the distances between all instances of the majority class and the instances of the minority class. Here, __majority class__ is to be under-sampled.\n",
        "  - __Step 2__: Then, $n$ instances of the majority class that have the __smallest distances__ to the minority class are selected.\n",
        "  - __Step 3__: If there are $k$ instances in the minority class, the nearest method will result in $k \\times n$ instances of the majority class.\n",
        "\n",
        "Key difference to SMOTE: NearMiss works on both the majority and minority classes, where as SMOTE only works on the minority class."
      ]
    },
    {
      "cell_type": "markdown",
      "metadata": {
        "id": "hv0e8-uCZRNq",
        "colab_type": "text"
      },
      "source": [
        "<!-- # How NearMiss works? -->\n",
        "- For finding $n$ closest instances in the majority class, there are several variations of applying NearMiss Algorithm :\n",
        "\n",
        "  - Version 1: It selects samples of the majority class for which _average_ distances to the $k$ __closest__ instances of the minority class is _smallest_.\n",
        "  - Version 2: It selects samples of the majority class for which _average_ distances to the $k$ __farthest__ instances of the minority class is _smallest_.\n",
        "  - Version 3: It works in 2 steps. \n",
        "    - Firstly, for each minority class instance, their $M$ nearest-neighbors will be stored. \n",
        "    - Secondly, the majority class instances are selected for which the average distance to the $N$ nearest-neighbors is the _largest_.\n",
        "\n",
        "Let's look at the original class distribution again."
      ]
    },
    {
      "cell_type": "code",
      "metadata": {
        "id": "mxHaj1khGKv0",
        "colab_type": "code",
        "outputId": "30179851-15c2-4262-a88e-8f1886d7e0d3",
        "colab": {
          "base_uri": "https://localhost:8080/",
          "height": 68
        }
      },
      "source": [
        "print(\"Before Undersampling, counts of label '1': {}\".format(sum(y_train == 1))) \n",
        "print(\"Before Undersampling, counts of label '0': {} \\n\".format(sum(y_train == 0))) "
      ],
      "execution_count": 19,
      "outputs": [
        {
          "output_type": "stream",
          "text": [
            "Before Undersampling, counts of label '1': 7419\n",
            "Before Undersampling, counts of label '0': 32581 \n",
            "\n"
          ],
          "name": "stdout"
        }
      ]
    },
    {
      "cell_type": "code",
      "metadata": {
        "id": "kxSaRkC_aayw",
        "colab_type": "code",
        "outputId": "c077cf78-2bb6-44e8-df89-9f42c054d347",
        "colab": {
          "base_uri": "https://localhost:8080/",
          "height": 102
        }
      },
      "source": [
        "# apply near miss \n",
        "\n",
        "nr = NearMiss(random_state=123) \n",
        "  \n",
        "X_train_miss, y_train_miss = nr.fit_sample(X_train, y_train) \n",
        "  \n",
        "print('After Undersampling, the shape of train_X: {}'.format(X_train_miss.shape)) \n",
        "print('After Undersampling, the shape of train_y: {} \\n'.format(y_train_miss.shape)) \n",
        "  \n",
        "print(\"After Undersampling, counts of label '1': {}\".format(sum(y_train_miss == 1))) \n",
        "print(\"After Undersampling, counts of label '0': {}\".format(sum(y_train_miss == 0))) "
      ],
      "execution_count": 20,
      "outputs": [
        {
          "output_type": "stream",
          "text": [
            "After Undersampling, the shape of train_X: (14838, 15)\n",
            "After Undersampling, the shape of train_y: (14838,) \n",
            "\n",
            "After Undersampling, counts of label '1': 7419\n",
            "After Undersampling, counts of label '0': 7419\n"
          ],
          "name": "stdout"
        }
      ]
    },
    {
      "cell_type": "markdown",
      "metadata": {
        "id": "2bcrXXgqaiQV",
        "colab_type": "text"
      },
      "source": [
        "The NearMiss Algorithm has undersampled the majority instances and made it equal to majority class. Here, the majority class has been reduced to the total number of minority class (`14,838`), so that both classes will have equal number of records. __Note__ that by doing so, we lost $ 32,581 - 14,838 = 17,743 $ intances in the majority class. Hence, we will observe a loss in the model performance.\n",
        "\n",
        "Let's check out the modeling results after applying the NearMiss technique on the data."
      ]
    },
    {
      "cell_type": "code",
      "metadata": {
        "id": "IuZhpZsGaeTZ",
        "colab_type": "code",
        "outputId": "15c4e477-0344-45de-d54e-6443baa0d321",
        "colab": {
          "base_uri": "https://localhost:8080/",
          "height": 170
        }
      },
      "source": [
        "# train the model on train set \n",
        "lr2 = LogisticRegression(max_iter=1000) \n",
        "lr2.fit(X_train_miss, y_train_miss) \n",
        "y_pred = lr2.predict(X_test) \n",
        "  \n",
        "# print classification report \n",
        "print(classification_report(y_test, y_pred)) "
      ],
      "execution_count": 21,
      "outputs": [
        {
          "output_type": "stream",
          "text": [
            "              precision    recall  f1-score   support\n",
            "\n",
            "           0       0.85      0.68      0.75      8149\n",
            "           1       0.25      0.46      0.32      1851\n",
            "\n",
            "    accuracy                           0.64     10000\n",
            "   macro avg       0.55      0.57      0.54     10000\n",
            "weighted avg       0.74      0.64      0.67     10000\n",
            "\n"
          ],
          "name": "stdout"
        }
      ]
    },
    {
      "cell_type": "markdown",
      "metadata": {
        "id": "NGSAZa8ebczh",
        "colab_type": "text"
      },
      "source": [
        "Similarly, we observe a decline in the modeling performance (e.g. acc: `84%` -> `64%`). But using the same logic as we analyzing the SMOTE results, we know that now we have an edge of $+14\\%$ over random guessing. \n",
        "\n",
        "In addition, by comparing the SMOTE and NearMiss results, we know that the SMOTE leads to better results - it is because we did not lose much data as we do in the NearMiss scenario. Thus, we can go with the SMOTE technique here."
      ]
    },
    {
      "cell_type": "markdown",
      "metadata": {
        "id": "UZNelfG0dAWD",
        "colab_type": "text"
      },
      "source": [
        "## Conclusion\n",
        "\n",
        "Now we understand how oversampling (__SMOTE__) and undersampling (__NearMiss__) work, and how do we use them in balancing the imbalanced dataset. \n",
        "\n",
        "They both have their own pros and cons, so you should choose them wisely. Additionally, researchers and data scientists are working on merging the two, or in general oversampling and undersampling together, to battle with imbalanced datasets. If you are interested, please [let me know](mailto:jtao@fairfield.edu)."
      ]
    },
    {
      "cell_type": "markdown",
      "metadata": {
        "id": "odLM93c5eNtr",
        "colab_type": "text"
      },
      "source": [
        "## References\n",
        "\n",
        "1. [Imbalance-Learn examples](http://glemaitre.github.io/imbalanced-learn/auto_examples/index.html)\n",
        "2. [ML | Handling Imbalanced Data with SMOTE and Near Miss Algorithm in Python](https://www.geeksforgeeks.org/ml-handling-imbalanced-data-with-smote-and-near-miss-algorithm-in-python/)\n",
        "3. [SMOTE Oversampling for Imbalanced Classification with Python](https://machinelearningmastery.com/smote-oversampling-for-imbalanced-classification/)\n",
        "4. [Survey of resampling techniques for improving classification performance in unbalanced datasets - research article](https://arxiv.org/pdf/1608.06048.pdf)\n",
        "5. [Undersampling Algorithms for Imbalanced Classification](https://machinelearningmastery.com/undersampling-algorithms-for-imbalanced-classification/)"
      ]
    },
    {
      "cell_type": "code",
      "metadata": {
        "id": "pLWSHV-bbVjX",
        "colab_type": "code",
        "colab": {}
      },
      "source": [
        ""
      ],
      "execution_count": 0,
      "outputs": []
    }
  ]
}